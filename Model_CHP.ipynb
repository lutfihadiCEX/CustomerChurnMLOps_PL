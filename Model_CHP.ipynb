{
 "cells": [
  {
   "cell_type": "code",
   "execution_count": 15,
   "id": "513bcb50-d51b-454b-97b9-2e3de5bec554",
   "metadata": {},
   "outputs": [],
   "source": [
    "\"\"\"\n",
    "Customer Churn Prediction (MLOps Exploring)\n",
    "Author: Lutfihadi\n",
    "Remarks: This script compares multiple models and logs them via MLflow.\n",
    "          Also tested threshold tuning manually to balance recall and precision.\n",
    "\"\"\"\n",
    "\n",
    "\n",
    "#Importing prereq libraries\n",
    "import pandas as pd\n",
    "import numpy as np\n",
    "from sklearn.model_selection import train_test_split\n",
    "from sklearn.preprocessing import LabelEncoder, StandardScaler\n",
    "import mlflow\n",
    "import mlflow.sklearn"
   ]
  },
  {
   "cell_type": "code",
   "execution_count": 16,
   "id": "531aea71-84b0-4862-a0a0-d12efa3f8b8d",
   "metadata": {},
   "outputs": [
    {
     "name": "stdout",
     "output_type": "stream",
     "text": [
      "Shape: (7043, 21)\n"
     ]
    },
    {
     "data": {
      "text/html": [
       "<div>\n",
       "<style scoped>\n",
       "    .dataframe tbody tr th:only-of-type {\n",
       "        vertical-align: middle;\n",
       "    }\n",
       "\n",
       "    .dataframe tbody tr th {\n",
       "        vertical-align: top;\n",
       "    }\n",
       "\n",
       "    .dataframe thead th {\n",
       "        text-align: right;\n",
       "    }\n",
       "</style>\n",
       "<table border=\"1\" class=\"dataframe\">\n",
       "  <thead>\n",
       "    <tr style=\"text-align: right;\">\n",
       "      <th></th>\n",
       "      <th>customerID</th>\n",
       "      <th>gender</th>\n",
       "      <th>SeniorCitizen</th>\n",
       "      <th>Partner</th>\n",
       "      <th>Dependents</th>\n",
       "      <th>tenure</th>\n",
       "      <th>PhoneService</th>\n",
       "      <th>MultipleLines</th>\n",
       "      <th>InternetService</th>\n",
       "      <th>OnlineSecurity</th>\n",
       "      <th>...</th>\n",
       "      <th>DeviceProtection</th>\n",
       "      <th>TechSupport</th>\n",
       "      <th>StreamingTV</th>\n",
       "      <th>StreamingMovies</th>\n",
       "      <th>Contract</th>\n",
       "      <th>PaperlessBilling</th>\n",
       "      <th>PaymentMethod</th>\n",
       "      <th>MonthlyCharges</th>\n",
       "      <th>TotalCharges</th>\n",
       "      <th>Churn</th>\n",
       "    </tr>\n",
       "  </thead>\n",
       "  <tbody>\n",
       "    <tr>\n",
       "      <th>0</th>\n",
       "      <td>7590-VHVEG</td>\n",
       "      <td>Female</td>\n",
       "      <td>0</td>\n",
       "      <td>Yes</td>\n",
       "      <td>No</td>\n",
       "      <td>1</td>\n",
       "      <td>No</td>\n",
       "      <td>No phone service</td>\n",
       "      <td>DSL</td>\n",
       "      <td>No</td>\n",
       "      <td>...</td>\n",
       "      <td>No</td>\n",
       "      <td>No</td>\n",
       "      <td>No</td>\n",
       "      <td>No</td>\n",
       "      <td>Month-to-month</td>\n",
       "      <td>Yes</td>\n",
       "      <td>Electronic check</td>\n",
       "      <td>29.85</td>\n",
       "      <td>29.85</td>\n",
       "      <td>No</td>\n",
       "    </tr>\n",
       "    <tr>\n",
       "      <th>1</th>\n",
       "      <td>5575-GNVDE</td>\n",
       "      <td>Male</td>\n",
       "      <td>0</td>\n",
       "      <td>No</td>\n",
       "      <td>No</td>\n",
       "      <td>34</td>\n",
       "      <td>Yes</td>\n",
       "      <td>No</td>\n",
       "      <td>DSL</td>\n",
       "      <td>Yes</td>\n",
       "      <td>...</td>\n",
       "      <td>Yes</td>\n",
       "      <td>No</td>\n",
       "      <td>No</td>\n",
       "      <td>No</td>\n",
       "      <td>One year</td>\n",
       "      <td>No</td>\n",
       "      <td>Mailed check</td>\n",
       "      <td>56.95</td>\n",
       "      <td>1889.5</td>\n",
       "      <td>No</td>\n",
       "    </tr>\n",
       "    <tr>\n",
       "      <th>2</th>\n",
       "      <td>3668-QPYBK</td>\n",
       "      <td>Male</td>\n",
       "      <td>0</td>\n",
       "      <td>No</td>\n",
       "      <td>No</td>\n",
       "      <td>2</td>\n",
       "      <td>Yes</td>\n",
       "      <td>No</td>\n",
       "      <td>DSL</td>\n",
       "      <td>Yes</td>\n",
       "      <td>...</td>\n",
       "      <td>No</td>\n",
       "      <td>No</td>\n",
       "      <td>No</td>\n",
       "      <td>No</td>\n",
       "      <td>Month-to-month</td>\n",
       "      <td>Yes</td>\n",
       "      <td>Mailed check</td>\n",
       "      <td>53.85</td>\n",
       "      <td>108.15</td>\n",
       "      <td>Yes</td>\n",
       "    </tr>\n",
       "    <tr>\n",
       "      <th>3</th>\n",
       "      <td>7795-CFOCW</td>\n",
       "      <td>Male</td>\n",
       "      <td>0</td>\n",
       "      <td>No</td>\n",
       "      <td>No</td>\n",
       "      <td>45</td>\n",
       "      <td>No</td>\n",
       "      <td>No phone service</td>\n",
       "      <td>DSL</td>\n",
       "      <td>Yes</td>\n",
       "      <td>...</td>\n",
       "      <td>Yes</td>\n",
       "      <td>Yes</td>\n",
       "      <td>No</td>\n",
       "      <td>No</td>\n",
       "      <td>One year</td>\n",
       "      <td>No</td>\n",
       "      <td>Bank transfer (automatic)</td>\n",
       "      <td>42.30</td>\n",
       "      <td>1840.75</td>\n",
       "      <td>No</td>\n",
       "    </tr>\n",
       "    <tr>\n",
       "      <th>4</th>\n",
       "      <td>9237-HQITU</td>\n",
       "      <td>Female</td>\n",
       "      <td>0</td>\n",
       "      <td>No</td>\n",
       "      <td>No</td>\n",
       "      <td>2</td>\n",
       "      <td>Yes</td>\n",
       "      <td>No</td>\n",
       "      <td>Fiber optic</td>\n",
       "      <td>No</td>\n",
       "      <td>...</td>\n",
       "      <td>No</td>\n",
       "      <td>No</td>\n",
       "      <td>No</td>\n",
       "      <td>No</td>\n",
       "      <td>Month-to-month</td>\n",
       "      <td>Yes</td>\n",
       "      <td>Electronic check</td>\n",
       "      <td>70.70</td>\n",
       "      <td>151.65</td>\n",
       "      <td>Yes</td>\n",
       "    </tr>\n",
       "  </tbody>\n",
       "</table>\n",
       "<p>5 rows × 21 columns</p>\n",
       "</div>"
      ],
      "text/plain": [
       "   customerID  gender  SeniorCitizen Partner Dependents  tenure PhoneService  \\\n",
       "0  7590-VHVEG  Female              0     Yes         No       1           No   \n",
       "1  5575-GNVDE    Male              0      No         No      34          Yes   \n",
       "2  3668-QPYBK    Male              0      No         No       2          Yes   \n",
       "3  7795-CFOCW    Male              0      No         No      45           No   \n",
       "4  9237-HQITU  Female              0      No         No       2          Yes   \n",
       "\n",
       "      MultipleLines InternetService OnlineSecurity  ... DeviceProtection  \\\n",
       "0  No phone service             DSL             No  ...               No   \n",
       "1                No             DSL            Yes  ...              Yes   \n",
       "2                No             DSL            Yes  ...               No   \n",
       "3  No phone service             DSL            Yes  ...              Yes   \n",
       "4                No     Fiber optic             No  ...               No   \n",
       "\n",
       "  TechSupport StreamingTV StreamingMovies        Contract PaperlessBilling  \\\n",
       "0          No          No              No  Month-to-month              Yes   \n",
       "1          No          No              No        One year               No   \n",
       "2          No          No              No  Month-to-month              Yes   \n",
       "3         Yes          No              No        One year               No   \n",
       "4          No          No              No  Month-to-month              Yes   \n",
       "\n",
       "               PaymentMethod MonthlyCharges  TotalCharges Churn  \n",
       "0           Electronic check          29.85         29.85    No  \n",
       "1               Mailed check          56.95        1889.5    No  \n",
       "2               Mailed check          53.85        108.15   Yes  \n",
       "3  Bank transfer (automatic)          42.30       1840.75    No  \n",
       "4           Electronic check          70.70        151.65   Yes  \n",
       "\n",
       "[5 rows x 21 columns]"
      ]
     },
     "execution_count": 16,
     "metadata": {},
     "output_type": "execute_result"
    }
   ],
   "source": [
    "# Load dataset\n",
    "df = pd.read_csv(r\"C:\\MLCourse\\customer_churn_mlops\\data\\WA_Fn-UseC_-Telco-Customer-Churn.csv\")\n",
    "\n",
    "# Quick check\n",
    "print(\"Shape:\", df.shape)\n",
    "df.head()"
   ]
  },
  {
   "cell_type": "code",
   "execution_count": 17,
   "id": "847f55a4-7001-4d5a-8857-daf4f5ddab00",
   "metadata": {},
   "outputs": [
    {
     "name": "stdout",
     "output_type": "stream",
     "text": [
      "✅ Cleaned shape: (7043, 20)\n",
      "Churn distribution:\n",
      "Churn\n",
      "0    5174\n",
      "1    1869\n",
      "Name: count, dtype: int64\n",
      "Churn rate: 26.54%\n"
     ]
    }
   ],
   "source": [
    "# Clean and prepare raw data\n",
    "df['TotalCharges'] = df['TotalCharges'].replace(' ', np.nan)\n",
    "df['TotalCharges'] = df['TotalCharges'].astype(float)\n",
    "df['TotalCharges'] = df['TotalCharges'].fillna(df['TotalCharges'].median())\n",
    "\n",
    "df.drop('customerID', axis=1, inplace=True)\n",
    "\n",
    "df['Churn'] = df['Churn'].map({'Yes': 1, 'No': 0})\n",
    "\n",
    "# Splitting and encoding(train_test_split)\n",
    "X = df.drop('Churn', axis=1)\n",
    "y = df['Churn']\n",
    "\n",
    "print(f\"✅ Cleaned shape: {df.shape}\")\n",
    "print(f\"Churn distribution:\\n{df['Churn'].value_counts()}\")\n",
    "print(f\"Churn rate: {df['Churn'].mean():.2%}\")"
   ]
  },
  {
   "cell_type": "code",
   "execution_count": 18,
   "id": "7c622349-d181-4b6e-b491-b4678454c74d",
   "metadata": {},
   "outputs": [
    {
     "name": "stdout",
     "output_type": "stream",
     "text": [
      "Train shape: (5634, 19)\n",
      "Test shape: (1409, 19)\n"
     ]
    }
   ],
   "source": [
    "# Train Test Split\n",
    "X_train, X_test, y_train, y_test = train_test_split(\n",
    "    X, y, test_size=0.2, random_state=42\n",
    ")\n",
    "\n",
    "print(\"Train shape:\", X_train.shape)\n",
    "print(\"Test shape:\", X_test.shape)"
   ]
  },
  {
   "cell_type": "code",
   "execution_count": 19,
   "id": "bae47f15-d652-4b8d-b5ff-82e8077fdc4b",
   "metadata": {},
   "outputs": [
    {
     "name": "stdout",
     "output_type": "stream",
     "text": [
      "\n",
      "--- Training logistic_regression ---\n",
      "Fitting 5 folds for each of 6 candidates, totalling 30 fits\n"
     ]
    },
    {
     "name": "stderr",
     "output_type": "stream",
     "text": [
      "2025/10/21 00:25:41 WARNING mlflow.models.model: `artifact_path` is deprecated. Please use `name` instead.\n"
     ]
    },
    {
     "name": "stdout",
     "output_type": "stream",
     "text": [
      "Best Params → {'classifier__C': 0.1, 'classifier__class_weight': 'balanced', 'classifier__penalty': 'l2'}\n",
      "Metrics: acc=0.752, f1=0.639, auc=0.862\n"
     ]
    },
    {
     "name": "stderr",
     "output_type": "stream",
     "text": [
      "2025/10/21 00:25:47 WARNING mlflow.models.model: Model logged without a signature and input example. Please set `input_example` parameter when logging the model to auto infer the model signature.\n"
     ]
    },
    {
     "name": "stdout",
     "output_type": "stream",
     "text": [
      "\n",
      "--- Training random_forest ---\n",
      "Fitting 5 folds for each of 24 candidates, totalling 120 fits\n"
     ]
    },
    {
     "name": "stderr",
     "output_type": "stream",
     "text": [
      "2025/10/21 00:26:11 WARNING mlflow.models.model: `artifact_path` is deprecated. Please use `name` instead.\n"
     ]
    },
    {
     "name": "stdout",
     "output_type": "stream",
     "text": [
      "Best Params → {'classifier__class_weight': 'balanced', 'classifier__max_depth': 10, 'classifier__min_samples_split': 5, 'classifier__n_estimators': 200}\n",
      "Metrics: acc=0.781, f1=0.644, auc=0.861\n"
     ]
    },
    {
     "name": "stderr",
     "output_type": "stream",
     "text": [
      "2025/10/21 00:26:16 WARNING mlflow.models.model: Model logged without a signature and input example. Please set `input_example` parameter when logging the model to auto infer the model signature.\n"
     ]
    },
    {
     "name": "stdout",
     "output_type": "stream",
     "text": [
      "\n",
      "--- Training gradient_boosting ---\n",
      "Fitting 5 folds for each of 16 candidates, totalling 80 fits\n"
     ]
    },
    {
     "name": "stderr",
     "output_type": "stream",
     "text": [
      "2025/10/21 00:26:49 WARNING mlflow.models.model: `artifact_path` is deprecated. Please use `name` instead.\n"
     ]
    },
    {
     "name": "stdout",
     "output_type": "stream",
     "text": [
      "Best Params → {'classifier__learning_rate': 0.1, 'classifier__max_depth': 3, 'classifier__n_estimators': 100, 'classifier__subsample': 0.8}\n",
      "Metrics: acc=0.817, f1=0.622, auc=0.859\n"
     ]
    },
    {
     "name": "stderr",
     "output_type": "stream",
     "text": [
      "2025/10/21 00:26:54 WARNING mlflow.models.model: Model logged without a signature and input example. Please set `input_example` parameter when logging the model to auto infer the model signature.\n"
     ]
    },
    {
     "name": "stdout",
     "output_type": "stream",
     "text": [
      "\n",
      "--- Training xgboost ---\n",
      "Fitting 5 folds for each of 24 candidates, totalling 120 fits\n"
     ]
    },
    {
     "name": "stderr",
     "output_type": "stream",
     "text": [
      "2025/10/21 00:27:03 WARNING mlflow.models.model: `artifact_path` is deprecated. Please use `name` instead.\n"
     ]
    },
    {
     "name": "stdout",
     "output_type": "stream",
     "text": [
      "Best Params → {'classifier__learning_rate': 0.1, 'classifier__max_depth': 3, 'classifier__n_estimators': 100, 'classifier__scale_pos_weight': 3}\n",
      "Metrics: acc=0.754, f1=0.648, auc=0.859\n"
     ]
    },
    {
     "name": "stderr",
     "output_type": "stream",
     "text": [
      "2025/10/21 00:27:10 WARNING mlflow.models.model: Model logged without a signature and input example. Please set `input_example` parameter when logging the model to auto infer the model signature.\n"
     ]
    },
    {
     "name": "stdout",
     "output_type": "stream",
     "text": [
      "\n",
      "Model performance summary (sorted by F1):\n",
      "\n",
      "                 model  accuracy  precision    recall  f1_score   roc_auc\n",
      "3              xgboost  0.754436   0.522167  0.852547  0.647658  0.858952\n",
      "1        random_forest  0.780696   0.564516  0.750670  0.644419  0.860781\n",
      "0  logistic_regression  0.752307   0.520202  0.828418  0.639090  0.861989\n",
      "2    gradient_boosting  0.816891   0.686084  0.568365  0.621701  0.859318\n",
      "\n",
      "Best performer → XGBOOST | F1: 0.6477\n",
      "\n",
      "Comparison saved and logged to MLflow ✅\n"
     ]
    }
   ],
   "source": [
    "# Model training and evaluation\n",
    "from sklearn.linear_model import LogisticRegression\n",
    "from sklearn.ensemble import RandomForestClassifier, GradientBoostingClassifier\n",
    "from xgboost import XGBClassifier\n",
    "from sklearn.preprocessing import OneHotEncoder, StandardScaler\n",
    "from sklearn.compose import ColumnTransformer\n",
    "from sklearn.pipeline import Pipeline\n",
    "from sklearn.metrics import accuracy_score, precision_score, recall_score, f1_score, roc_auc_score\n",
    "from sklearn.model_selection import GridSearchCV\n",
    "import mlflow\n",
    "import mlflow.sklearn\n",
    "import pandas as pd\n",
    "import numpy as np\n",
    "\n",
    "# Categorical and numeric columns\n",
    "cat_cols = X.select_dtypes(include=['object']).columns\n",
    "num_cols = X.select_dtypes(exclude=['object']).columns\n",
    "\n",
    "# Preprocessing pipeline\n",
    "preprocessor = ColumnTransformer([\n",
    "    (\"num\", StandardScaler(), num_cols),\n",
    "    (\"cat\", OneHotEncoder(handle_unknown='ignore'), cat_cols)\n",
    "])\n",
    "\n",
    "# Set MLflow experiment\n",
    "mlflow.set_experiment(\"customer_churn_prediction_ARTIFACTS\")\n",
    "\n",
    "# Models and their hyperparameters\n",
    "models = {\n",
    "    \"logistic_regression\": {\n",
    "        \"model\": LogisticRegression(max_iter=1000),\n",
    "        \"params\": {\n",
    "            \"classifier__C\": [0.1, 1.0, 10.0],\n",
    "            \"classifier__penalty\": ['l2'],\n",
    "            \"classifier__class_weight\": ['balanced', None]\n",
    "        }\n",
    "    },\n",
    "    \"random_forest\": {\n",
    "        \"model\": RandomForestClassifier(random_state=42),\n",
    "        \"params\": {\n",
    "            \"classifier__n_estimators\": [100, 200],\n",
    "            \"classifier__max_depth\": [10, 20, None],\n",
    "            \"classifier__min_samples_split\": [2, 5],\n",
    "            \"classifier__class_weight\": ['balanced', None]\n",
    "        }\n",
    "    },\n",
    "    \"gradient_boosting\": {\n",
    "        \"model\": GradientBoostingClassifier(random_state=42),\n",
    "        \"params\": {\n",
    "            \"classifier__n_estimators\": [100, 200],\n",
    "            \"classifier__learning_rate\": [0.01, 0.1],\n",
    "            \"classifier__max_depth\": [3, 5],\n",
    "            \"classifier__subsample\": [0.8, 1.0]\n",
    "        }\n",
    "    },\n",
    "    \"xgboost\": {\n",
    "        \"model\": XGBClassifier(random_state=42, eval_metric='logloss'),\n",
    "        \"params\": {\n",
    "            \"classifier__n_estimators\": [100, 200],\n",
    "            \"classifier__learning_rate\": [0.01, 0.1],\n",
    "            \"classifier__max_depth\": [3, 5, 7],\n",
    "            \"classifier__scale_pos_weight\": [1, 3]  # for imbalanced data\n",
    "        }\n",
    "    }\n",
    "}\n",
    "\n",
    "# Store results for comparison\n",
    "results = []\n",
    "\n",
    "# Train \n",
    "for model_name, model_config in models.items():\n",
    "    print(f\"\\n--- Training {model_name} ---\")\n",
    "    \n",
    "    with mlflow.start_run(run_name=f\"{model_name}_with_tuning\"):\n",
    "        # Create pipeline\n",
    "        pipeline = Pipeline([\n",
    "            (\"preprocessor\", preprocessor),\n",
    "            (\"classifier\", model_config[\"model\"])\n",
    "        ])\n",
    "        \n",
    "        \n",
    "        grid_search = GridSearchCV(\n",
    "            pipeline,\n",
    "            model_config[\"params\"],\n",
    "            cv=5,\n",
    "            scoring='f1',\n",
    "            n_jobs=-1,\n",
    "            verbose=1\n",
    "        )\n",
    "        \n",
    "        \n",
    "        grid_search.fit(X_train, y_train)\n",
    "        best_model = grid_search.best_estimator_\n",
    "        \n",
    "        # Predict\n",
    "        y_pred = best_model.predict(X_test)\n",
    "        y_pred_proba = best_model.predict_proba(X_test)[:, 1]\n",
    "        \n",
    "        # Met Eval\n",
    "        acc = accuracy_score(y_test, y_pred)\n",
    "        prec = precision_score(y_test, y_pred)\n",
    "        rec = recall_score(y_test, y_pred)\n",
    "        f1 = f1_score(y_test, y_pred)\n",
    "        auc = roc_auc_score(y_test, y_pred_proba)\n",
    "        \n",
    "        \n",
    "        print(f\"Best Params → {grid_search.best_params_}\")\n",
    "        print(f\"Metrics: acc={acc:.3f}, f1={f1:.3f}, auc={auc:.3f}\")\n",
    "\n",
    "        \n",
    "        # MLflow log\n",
    "        mlflow.log_param(\"model_type\", model_name)\n",
    "        mlflow.log_params(grid_search.best_params_)\n",
    "        mlflow.log_metric(\"accuracy\", acc)\n",
    "        mlflow.log_metric(\"precision\", prec)\n",
    "        mlflow.log_metric(\"recall\", rec)\n",
    "        mlflow.log_metric(\"f1_score\", f1)\n",
    "        mlflow.log_metric(\"roc_auc\", auc)\n",
    "        mlflow.log_metric(\"cv_best_score\", grid_search.best_score_)\n",
    "        mlflow.sklearn.log_model(best_model, \"model\")\n",
    "        \n",
    "        # Storing\n",
    "        results.append({\n",
    "            \"model\": model_name,\n",
    "            \"accuracy\": acc,\n",
    "            \"precision\": prec,\n",
    "            \"recall\": rec,\n",
    "            \"f1_score\": f1,\n",
    "            \"roc_auc\": auc,\n",
    "            \"best_params\": grid_search.best_params_\n",
    "        })\n",
    "\n",
    "# Comparing \n",
    "results_df = pd.DataFrame(results).sort_values('f1_score', ascending=False)\n",
    "\n",
    "print(\"\\nModel performance summary (sorted by F1):\\n\")\n",
    "print(results_df[['model', 'accuracy', 'precision', 'recall', 'f1_score', 'roc_auc']])\n",
    "\n",
    "best_model_name = results_df.iloc[0]['model']\n",
    "best_f1 = results_df.iloc[0]['f1_score']\n",
    "\n",
    "print(f\"\\nBest performer → {best_model_name.upper()} | F1: {best_f1:.4f}\\n\")\n",
    "\n",
    "# Save comparison for reference\n",
    "results_df.to_csv(\"model_comparison.csv\", index=False)\n",
    "\n",
    "# Log summary to MLflow\n",
    "with mlflow.start_run(run_name=\"model_comparison\"):\n",
    "    mlflow.log_artifact(\"model_comparison.csv\")\n",
    "    mlflow.log_metric(\"best_f1_score\", best_f1)\n",
    "    mlflow.log_param(\"best_model\", best_model_name)\n",
    "\n",
    "print(\"Comparison saved and logged to MLflow ✅\")\n"
   ]
  },
  {
   "cell_type": "code",
   "execution_count": 22,
   "id": "709f1e18-a850-4c85-bf97-00efa3bf5971",
   "metadata": {},
   "outputs": [
    {
     "data": {
      "application/vnd.jupyter.widget-view+json": {
       "model_id": "e3d8f6fa63ae4d3cbc19529b0aa5aa3d",
       "version_major": 2,
       "version_minor": 0
      },
      "text/plain": [
       "Downloading artifacts:   0%|          | 0/1 [00:00<?, ?it/s]"
      ]
     },
     "metadata": {},
     "output_type": "display_data"
    },
    {
     "data": {
      "application/vnd.jupyter.widget-view+json": {
       "model_id": "7fb795ad7ef04fc4a1366b2a8d3a3a17",
       "version_major": 2,
       "version_minor": 0
      },
      "text/plain": [
       "Downloading artifacts:   0%|          | 0/5 [00:00<?, ?it/s]"
      ]
     },
     "metadata": {},
     "output_type": "display_data"
    },
    {
     "name": "stdout",
     "output_type": "stream",
     "text": [
      "\n",
      "Best threshold = 0.578 (F1 = 0.656)\n",
      "\n",
      "Threshold comparison:\n",
      "                Accuracy  Precision    Recall        F1\n",
      "Default (0.5)  0.754436   0.522167  0.852547  0.647658\n",
      "Tuned (0.578)  0.782115   0.563462  0.785523  0.656215\n",
      "\n",
      "Plot saved: threshold_optimization.png\n",
      "\n",
      "F1 change: +0.009 (after adjusting threshold)\n",
      "Precision/recall shifted as expected.\n"
     ]
    },
    {
     "data": {
      "image/png": "[encoded data removed]",
      "text/plain": [
       "<Figure size 800x500 with 1 Axes>"
      ]
     },
     "metadata": {},
     "output_type": "display_data"
    }
   ],
   "source": [
    "# Threshold optimization\n",
    "from sklearn.metrics import precision_recall_curve, confusion_matrix, accuracy_score, precision_score, recall_score, f1_score\n",
    "import matplotlib.pyplot as plt\n",
    "import numpy as np\n",
    "import pandas as pd\n",
    "import mlflow\n",
    "\n",
    "# Load model & predict churn probs\n",
    "model_uri = \"runs:/1344fffe0b7147fbace90cedccc60759/model\"\n",
    "model = mlflow.sklearn.load_model(model_uri)\n",
    "y_pred_proba = model.predict_proba(X_test)[:, 1]\n",
    "\n",
    "# Threshold finding\n",
    "precisions, recalls, thresholds = precision_recall_curve(y_test, y_pred_proba)\n",
    "f1_scores = 2 * (precisions * recalls) / (precisions + recalls + 1e-9)\n",
    "f1_scores = f1_scores[:-1] \n",
    "best_idx = np.argmax(f1_scores)\n",
    "best_threshold = thresholds[best_idx]\n",
    "best_f1 = f1_scores[best_idx]\n",
    "\n",
    "print(f\"\\nBest threshold = {best_threshold:.3f} (F1 = {best_f1:.3f})\")\n",
    "\n",
    "# Compare default 0.5 vs tuned threshold\n",
    "y_pred_default = (y_pred_proba >= 0.5).astype(int)\n",
    "y_pred_best = (y_pred_proba >= best_threshold).astype(int)\n",
    "\n",
    "def evaluate(y_true, y_pred):\n",
    "    return {\n",
    "        \"Accuracy\": accuracy_score(y_true, y_pred),\n",
    "        \"Precision\": precision_score(y_true, y_pred),\n",
    "        \"Recall\": recall_score(y_true, y_pred),\n",
    "        \"F1\": f1_score(y_true, y_pred)\n",
    "    }\n",
    "\n",
    "default_metrics = evaluate(y_test, y_pred_default)\n",
    "tuned_metrics = evaluate(y_test, y_pred_best)\n",
    "\n",
    "summary = pd.DataFrame([default_metrics, tuned_metrics], index=[\"Default (0.5)\", f\"Tuned ({best_threshold:.3f})\"])\n",
    "print(\"\\nThreshold comparison:\\n\", summary)\n",
    "\n",
    "# Visualization\n",
    "plt.figure(figsize=(8,5))\n",
    "plt.plot(thresholds, f1_scores, label=\"F1 Score\", color=\"purple\")\n",
    "plt.axvline(best_threshold, color=\"red\", linestyle=\"--\", label=f\"Best: {best_threshold:.3f}\")\n",
    "plt.axvline(0.5, color=\"gray\", linestyle=\":\", label=\"Default (0.5)\")\n",
    "plt.xlabel(\"Threshold\"); plt.ylabel(\"F1 Score\")\n",
    "plt.title(\"Threshold vs F1 Score\")\n",
    "plt.legend()\n",
    "plt.tight_layout()\n",
    "plt.savefig(\"threshold_optimization.png\", dpi=300)\n",
    "print(\"\\nPlot saved: threshold_optimization.png\")\n",
    "\n",
    "# Interpretation\n",
    "delta = tuned_metrics[\"F1\"] - default_metrics[\"F1\"]\n",
    "print(f\"\\nF1 change: {delta:+.3f} (after adjusting threshold)\")\n",
    "print(\"Precision/recall shifted as expected.\")\n",
    "\n"
   ]
  },
  {
   "cell_type": "code",
   "execution_count": null,
   "id": "a990df1c-89af-424f-85bc-d1947984cd29",
   "metadata": {},
   "outputs": [],
   "source": []
  }
 ],
 "metadata": {
  "kernelspec": {
   "display_name": "Python 3 (ipykernel)",
   "language": "python",
   "name": "python3"
  },
  "language_info": {
   "codemirror_mode": {
    "name": "ipython",
    "version": 3
   },
   "file_extension": ".py",
   "mimetype": "text/x-python",
   "name": "python",
   "nbconvert_exporter": "python",
   "pygments_lexer": "ipython3",
   "version": "3.12.7"
  }
 },
 "nbformat": 4,
 "nbformat_minor": 5
}
